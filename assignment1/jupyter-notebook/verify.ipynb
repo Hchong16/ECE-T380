{
 "cells": [
  {
   "cell_type": "code",
   "execution_count": null,
   "metadata": {},
   "outputs": [],
   "source": [
    "# Harry Chong\n",
    "# Driver test code to verify results using the model pkl and pipeline pkl files\n",
    "import pandas as pd\n",
    "import numpy as np\n",
    "import matplotlib.pyplot as plt\n",
    "import pickle\n",
    "\n",
    "from sklearn.linear_model import LinearRegression\n",
    "from sklearn.ensemble import RandomForestRegressor\n",
    "from sklearn.model_selection import train_test_split\n",
    "from sklearn.preprocessing import StandardScaler\n",
    "from sklearn.impute import SimpleImputer\n",
    "from sklearn.metrics import mean_squared_error\n",
    "from sklearn.base import BaseEstimator, TransformerMixin\n",
    "from sklearn.pipeline import Pipeline"
   ]
  },
  {
   "cell_type": "code",
   "execution_count": null,
   "metadata": {},
   "outputs": [],
   "source": [
    "# Helper Function\n",
    "class DropColumn(BaseEstimator, TransformerMixin):\n",
    "    def __init__(self, column):\n",
    "        self.column = column\n",
    "            \n",
    "    def fit(self, X, y = None):\n",
    "        return self # nothing else to do\n",
    "    \n",
    "    def transform(self, X):\n",
    "        # Check if x is a pandas DataFrame\n",
    "        if not isinstance(X, pd.DataFrame):\n",
    "            raise KeyError(\"Input is not a pandas DataFrame\")\n",
    "        return X.drop([self.column], axis=1)"
   ]
  },
  {
   "cell_type": "code",
   "execution_count": null,
   "metadata": {},
   "outputs": [],
   "source": [
    "# Driver code for Linear Regression (pipeline1.pkl & model1.pkl)\n",
    "# Load dataset and pipeline\n",
    "dataset = pd.read_pickle(\"appml-assignment1-dataset.pkl\")\n",
    "x_data = pd.DataFrame(dataset[\"X\"])\n",
    "y_data = pd.DataFrame(dataset[\"y\"])\n",
    "\n",
    "dataPipeline = pickle.load(open(\"pipeline1.pkl\", \"rb\"))\n",
    "transformedData = dataPipeline.fit_transform(x_data)\n",
    "\n",
    "# Split data into training and test sets\n",
    "x_train, x_test = train_test_split(transformedData, test_size = 0.25, random_state=0)\n",
    "y_train, y_test = train_test_split(y_data, test_size = 0.25, random_state=0)\n",
    "\n",
    "# Load model\n",
    "lin_reg = pickle.load(open(\"model1.pkl\", \"rb\"))\n",
    "\n",
    "# Predict result\n",
    "y_pred = lin_reg.predict(x_test)\n",
    "\n",
    "# Calculate MSE and Accuracy\n",
    "lin_mse = np.sqrt(mean_squared_error(y_test, y_pred))\n",
    "lin_accuracy = lin_reg.score(x_test, y_test)\n",
    "print(\"Linear Regression MSE: {}\".format(lin_mse))\n",
    "print(\"Linear Regression Accuracy: {}\".format(lin_accuracy))"
   ]
  },
  {
   "cell_type": "code",
   "execution_count": null,
   "metadata": {},
   "outputs": [],
   "source": [
    "# Driver code for Random Forest (pipeline2.pkl & model2.pkl)\n",
    "# Load dataset and pipeline\n",
    "dataset = pd.read_pickle(\"appml-assignment1-dataset.pkl\")\n",
    "x_data = pd.DataFrame(dataset[\"X\"])\n",
    "y_data = pd.DataFrame(dataset[\"y\"])\n",
    "\n",
    "dataPipeline = pickle.load(open(\"pipeline2.pkl\", \"rb\"))\n",
    "transformedData = dataPipeline.fit_transform(x_data)\n",
    "\n",
    "# Split data into training and test sets\n",
    "x_train, x_test = train_test_split(transformedData, test_size = 0.25, random_state=0)\n",
    "y_train, y_test = train_test_split(y_data, test_size = 0.25, random_state=0)\n",
    "\n",
    "# Load model\n",
    "forest_reg = pickle.load(open(\"model2.pkl\", \"rb\"))\n",
    "\n",
    "# Predict result\n",
    "y_pred = forest_reg.predict(x_test)\n",
    "\n",
    "# Calculate MSE and Accuracy\n",
    "forest_mse = np.sqrt(mean_squared_error(y_test, y_pred))\n",
    "forest_accuracy = forest_reg.score(x_test, y_test)\n",
    "print(\"Random Forest MSE: {}\".format(forest_mse))\n",
    "print(\"Random Forest Accuracy: {}\".format(forest_accuracy))"
   ]
  }
 ],
 "metadata": {
  "kernelspec": {
   "display_name": "Python 3",
   "language": "python",
   "name": "python3"
  },
  "language_info": {
   "codemirror_mode": {
    "name": "ipython",
    "version": 3
   },
   "file_extension": ".py",
   "mimetype": "text/x-python",
   "name": "python",
   "nbconvert_exporter": "python",
   "pygments_lexer": "ipython3",
   "version": "3.7.9"
  }
 },
 "nbformat": 4,
 "nbformat_minor": 4
}
