{
 "cells": [
  {
   "cell_type": "code",
   "execution_count": null,
   "metadata": {},
   "outputs": [],
   "source": [
    "# Harry Chong\n",
    "import gym\n",
    "import numpy as np\n",
    "import os\n",
    "import tensorflow as tf\n",
    "import logging\n",
    "import base64\n",
    "import io\n",
    "import IPython\n",
    "import imageio\n",
    "\n",
    "from tensorflow import keras\n",
    "from tf_agents.environments import suite_gym\n",
    "from tf_agents.environments import suite_atari\n",
    "from tf_agents.environments.atari_preprocessing import AtariPreprocessing\n",
    "from tf_agents.environments.tf_py_environment import TFPyEnvironment\n",
    "from tf_agents.environments.atari_wrappers import FrameStack4\n",
    "from tf_agents.policies.policy_saver import PolicySaver"
   ]
  },
  {
   "cell_type": "code",
   "execution_count": null,
   "metadata": {},
   "outputs": [],
   "source": [
    "# Helper Functions for video generation\n",
    "def embed_gif(gif_buffer):\n",
    "    \"\"\"Embeds a gif file in the notebook.\"\"\"\n",
    "    tag = '<img src=\"data:image/gif;base64,{0}\"/>'.format(base64.b64encode(gif_buffer).decode())\n",
    "    return IPython.display.HTML(tag)\n",
    "\n",
    "def run_episodes_and_create_video(policy, eval_tf_env, eval_py_env):\n",
    "    num_episodes = 3\n",
    "    frames = []\n",
    "    for _ in range(num_episodes):\n",
    "        time_step = eval_tf_env.reset()\n",
    "        frames.append(eval_py_env.render())\n",
    "        while not time_step.is_last():\n",
    "            action_step = policy.action(time_step)\n",
    "            time_step = eval_tf_env.step(action_step.action)\n",
    "            frames.append(eval_py_env.render())\n",
    "    gif_file = io.BytesIO()\n",
    "    imageio.mimsave(gif_file, frames, format='gif', fps=60)\n",
    "    IPython.display.display(embed_gif(gif_file.getvalue()))"
   ]
  },
  {
   "cell_type": "code",
   "execution_count": null,
   "metadata": {},
   "outputs": [],
   "source": [
    "PROJECT_ROOT_DIR = \".\"\n",
    "# Atari Pre-Processing\n",
    "max_episode_steps = 27000 # <=> 108k ALE frames since 1 step = 4 frames\n",
    "environment_name = \"AssaultNoFrameskip-v4\"\n",
    "\n",
    "env = suite_atari.load(    environment_name,\n",
    "    max_episode_steps = max_episode_steps,\n",
    "    gym_env_wrappers = [AtariPreprocessing, FrameStack4]\n",
    ")\n",
    "\n",
    "tf_env = TFPyEnvironment(env)"
   ]
  },
  {
   "cell_type": "code",
   "execution_count": null,
   "metadata": {},
   "outputs": [],
   "source": [
    "policy_dir = os.path.join(PROJECT_ROOT_DIR, \"savedPolicy\")\n",
    "saved_policy = tf.compat.v2.saved_model.load(policy_dir)"
   ]
  },
  {
   "cell_type": "code",
   "execution_count": null,
   "metadata": {},
   "outputs": [],
   "source": [
    "# Run trained model \n",
    "run_episodes_and_create_video(saved_policy, tf_env, env)"
   ]
  },
  {
   "cell_type": "code",
   "execution_count": null,
   "metadata": {},
   "outputs": [],
   "source": []
  }
 ],
 "metadata": {
  "kernelspec": {
   "display_name": "Python 3",
   "language": "python",
   "name": "python3"
  },
  "language_info": {
   "codemirror_mode": {
    "name": "ipython",
    "version": 3
   },
   "file_extension": ".py",
   "mimetype": "text/x-python",
   "name": "python",
   "nbconvert_exporter": "python",
   "pygments_lexer": "ipython3",
   "version": "3.7.9"
  }
 },
 "nbformat": 4,
 "nbformat_minor": 4
}
