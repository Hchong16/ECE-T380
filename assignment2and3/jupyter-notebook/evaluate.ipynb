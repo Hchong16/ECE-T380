{
 "cells": [
  {
   "cell_type": "code",
   "execution_count": 1,
   "metadata": {},
   "outputs": [],
   "source": [
    "# Harry Chong\n",
    "import tensorflow as tf\n",
    "import tensorflow_datasets as tfds\n",
    "from tensorflow import keras\n",
    "from preprocessDefinition import preprocess"
   ]
  },
  {
   "cell_type": "code",
   "execution_count": 2,
   "metadata": {
    "scrolled": true
   },
   "outputs": [],
   "source": [
    "model = tf.keras.models.load_model('flowersModel.h5')"
   ]
  },
  {
   "cell_type": "code",
   "execution_count": null,
   "metadata": {},
   "outputs": [],
   "source": [
    "evalset, info = tfds.load(name='oxford_flowers102', split='test', as_supervised=True, with_info=True)\n",
    "evalPipe = evalset.map(preprocess, num_parallel_calls=16).batch(128).prefetch(1)\n",
    "for features, label in evalPipe.unbatch().batch(6000).take(1):\n",
    "    probPreds = model.predict(features)"
   ]
  },
  {
   "cell_type": "code",
   "execution_count": null,
   "metadata": {},
   "outputs": [],
   "source": [
    "top1err = tf.reduce_mean(keras.metrics.sparse_top_k_categorical_accuracy(label, probPreds, k = 1))"
   ]
  },
  {
   "cell_type": "code",
   "execution_count": null,
   "metadata": {},
   "outputs": [],
   "source": [
    "top5err = tf.reduce_mean(keras.metrics.sparse_top_k_categorical_accuracy(label, probPreds, k = 5))"
   ]
  },
  {
   "cell_type": "code",
   "execution_count": null,
   "metadata": {},
   "outputs": [],
   "source": [
    "top10err = tf.reduce_mean(keras.metrics.sparse_top_k_categorical_accuracy(label, probPreds, k = 10))"
   ]
  },
  {
   "cell_type": "code",
   "execution_count": null,
   "metadata": {},
   "outputs": [],
   "source": [
    "avg_score = (top1err*100 + top5err*100 + top10err*100)/3\n",
    "\n",
    "print(\"Top1err: {}, Top5err: {}, Top10err: {}\".format(top1err, top5err, top10err))\n",
    "print(\"Average Score: {}\".format(avg_score))"
   ]
  },
  {
   "cell_type": "code",
   "execution_count": null,
   "metadata": {},
   "outputs": [],
   "source": []
  }
 ],
 "metadata": {
  "kernelspec": {
   "display_name": "Python 3",
   "language": "python",
   "name": "python3"
  },
  "language_info": {
   "codemirror_mode": {
    "name": "ipython",
    "version": 3
   },
   "file_extension": ".py",
   "mimetype": "text/x-python",
   "name": "python",
   "nbconvert_exporter": "python",
   "pygments_lexer": "ipython3",
   "version": "3.7.9"
  }
 },
 "nbformat": 4,
 "nbformat_minor": 4
}
