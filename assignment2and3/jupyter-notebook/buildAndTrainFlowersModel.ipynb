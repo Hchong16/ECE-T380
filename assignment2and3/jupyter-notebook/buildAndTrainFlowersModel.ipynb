{
 "cells": [
  {
   "cell_type": "code",
   "execution_count": null,
   "metadata": {},
   "outputs": [],
   "source": [
    "# Harry Chong\n",
    "import tensorflow as tf\n",
    "from tensorflow import keras\n",
    "import tensorflow_datasets as tfds\n",
    "import matplotlib.pyplot as plt\n",
    "from preprocessDefinition import preprocess"
   ]
  },
  {
   "cell_type": "code",
   "execution_count": null,
   "metadata": {},
   "outputs": [],
   "source": [
    "# Load Oxford Flowers 102 Dataset\n",
    "dataset, info = tfds.load(\"oxford_flowers102\", as_supervised = True, with_info = True)\n",
    "dataset_size = info.splits[\"train\"].num_examples\n",
    "num_classes = info.features[\"label\"].num_classes"
   ]
  },
  {
   "cell_type": "code",
   "execution_count": null,
   "metadata": {},
   "outputs": [],
   "source": [
    "# Split dataset into train and validation\n",
    "trainSetRaw = tfds.load(name = 'oxford_flowers102', split = 'train', as_supervised = True)\n",
    "validSetRaw = tfds.load(name = 'oxford_flowers102', split = 'validation', as_supervised = True) "
   ]
  },
  {
   "cell_type": "code",
   "execution_count": null,
   "metadata": {},
   "outputs": [],
   "source": [
    "# Preprocess using pipe\n",
    "batch_size = 32\n",
    "trainPipe = trainSetRaw.shuffle(1000).repeat()\n",
    "trainPipe = trainPipe.map(preprocess).batch(batch_size).prefetch(1)\n",
    "validPipe = validSetRaw.map(preprocess).batch(batch_size).prefetch(1)"
   ]
  },
  {
   "cell_type": "code",
   "execution_count": null,
   "metadata": {},
   "outputs": [],
   "source": [
    "# Load xception model (imagenet), remove top layers, and create new model with Global Average Pooling and Dense Layer\n",
    "base_model = keras.applications.xception.Xception(weights = 'imagenet', include_top = False)\n",
    "avg = keras.layers.GlobalAveragePooling2D()(base_model.output)\n",
    "output = keras.layers.Dense(num_classes, activation = \"softmax\")(avg)\n",
    "model = keras.models.Model(inputs = base_model.input, outputs = output)\n",
    "#model.summary()"
   ]
  },
  {
   "cell_type": "code",
   "execution_count": null,
   "metadata": {},
   "outputs": [],
   "source": [
    "# Setup callbacks\n",
    "checkpoint_cb = keras.callbacks.ModelCheckpoint(\"flowersModel.h5\", monitor = 'val_loss', save_best_only = False)\n",
    "earlyStop_cb = keras.callbacks.EarlyStopping(monitor = 'val_loss', patience = 3)"
   ]
  },
  {
   "cell_type": "code",
   "execution_count": null,
   "metadata": {
    "scrolled": true
   },
   "outputs": [],
   "source": [
    "# Train with freezed Weights of the Lower Layers (Fit the new Upper layers)\n",
    "for layer in base_model.layers:\n",
    "    layer.trainable = False\n",
    "\n",
    "optimizer = keras.optimizers.SGD(learning_rate = 0.05, momentum = 0.9, decay = 0.01)\n",
    "model.compile(loss=\"sparse_categorical_crossentropy\", optimizer = optimizer, metrics = [\"accuracy\"])\n",
    "history = model.fit(trainPipe, validation_data = validPipe, validation_steps = int(0.5*(dataset_size / batch_size)), epochs = 10, steps_per_epoch = dataset_size / batch_size, callbacks = [earlyStop_cb, checkpoint_cb], verbose=1)"
   ]
  },
  {
   "cell_type": "code",
   "execution_count": null,
   "metadata": {
    "scrolled": true
   },
   "outputs": [],
   "source": [
    "# Train with unfreeze Weights of the Lower Layers\n",
    "for layer in base_model.layers:\n",
    "    layer.trainable  = True\n",
    "\n",
    "optimizer = keras.optimizers.SGD(learning_rate = 0.01, momentum=0.9, decay = 0.01)\n",
    "model.compile(loss=\"sparse_categorical_crossentropy\", optimizer = optimizer,metrics=[\"accuracy\"])\n",
    "history = model.fit(trainPipe, validation_data = validPipe, validation_steps = int((dataset_size / batch_size)), epochs = 10, steps_per_epoch = dataset_size / batch_size, callbacks = [earlyStop_cb, checkpoint_cb], verbose=1)"
   ]
  },
  {
   "cell_type": "code",
   "execution_count": null,
   "metadata": {},
   "outputs": [],
   "source": []
  }
 ],
 "metadata": {
  "kernelspec": {
   "display_name": "Python 3",
   "language": "python",
   "name": "python3"
  },
  "language_info": {
   "codemirror_mode": {
    "name": "ipython",
    "version": 3
   },
   "file_extension": ".py",
   "mimetype": "text/x-python",
   "name": "python",
   "nbconvert_exporter": "python",
   "pygments_lexer": "ipython3",
   "version": "3.7.9"
  }
 },
 "nbformat": 4,
 "nbformat_minor": 4
}
