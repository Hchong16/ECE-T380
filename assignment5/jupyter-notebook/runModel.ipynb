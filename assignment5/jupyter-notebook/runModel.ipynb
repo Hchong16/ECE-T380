{
 "cells": [
  {
   "cell_type": "code",
   "execution_count": 1,
   "metadata": {},
   "outputs": [],
   "source": [
    "# Harry Chong\n",
    "import tensorflow.compat.v2 as tf\n",
    "import tensorflow_datasets as tfds\n",
    "from tensorflow import keras\n",
    "from collections import Counter"
   ]
  },
  {
   "cell_type": "code",
   "execution_count": 2,
   "metadata": {},
   "outputs": [],
   "source": [
    "# Load IMDB Reviews\n",
    "datasets, info = tfds.load(\"imdb_reviews\", as_supervised=True, with_info=True)"
   ]
  },
  {
   "cell_type": "code",
   "execution_count": 3,
   "metadata": {},
   "outputs": [],
   "source": [
    "# Setup vocabulary table\n",
    "def preprocess(X_batch, y_batch):\n",
    "    X_batch = tf.strings.substr(X_batch, 0, 300)\n",
    "    X_batch = tf.strings.regex_replace(X_batch, rb\"<br\\s*/?>\", b\" \")\n",
    "    X_batch = tf.strings.regex_replace(X_batch, b\"[^a-zA-Z']\", b\" \")\n",
    "    X_batch = tf.strings.regex_replace(X_batch, \"<[^>]+>\",  \" \")\n",
    "    X_batch = tf.strings.split(X_batch)\n",
    "    return X_batch.to_tensor(default_value=b\"<pad>\"), y_batch\n",
    "\n",
    "# Print some reviews and labels from dataset\n",
    "for X_batch, y_batch in datasets[\"train\"].batch(2).take(1):\n",
    "    for review, label in zip(X_batch.numpy(), y_batch.numpy()):\n",
    "        #print(\"Review:\", review.decode(\"utf-8\")[:200], \"...\")\n",
    "        #print(\"Label:\", label, \"= Positive\" if label else \"= Negative\")\n",
    "        #print()\n",
    "        pass\n",
    "    \n",
    "preprocess(X_batch, y_batch)\n",
    "\n",
    "vocabulary = Counter()\n",
    "for X_batch, y_batch in datasets[\"train\"].batch(32).map(preprocess):\n",
    "    for review in X_batch:\n",
    "        vocabulary.update(list(review.numpy()))"
   ]
  },
  {
   "cell_type": "code",
   "execution_count": 4,
   "metadata": {},
   "outputs": [],
   "source": [
    "# Tokenize each word to ID\n",
    "vocab_size = 10000\n",
    "truncated_vocabulary = [\n",
    "    word for word, count in vocabulary.most_common()[:vocab_size]]\n",
    "\n",
    "word_to_id = {word: index for index, word in enumerate(truncated_vocabulary)}\n",
    "words = tf.constant(truncated_vocabulary)\n",
    "word_ids = tf.range(len(truncated_vocabulary), dtype=tf.int64)\n",
    "vocab_init = tf.lookup.KeyValueTensorInitializer(words, word_ids)\n",
    "num_oov_buckets = 1000\n",
    "table = tf.lookup.StaticVocabularyTable(vocab_init, num_oov_buckets)"
   ]
  },
  {
   "cell_type": "code",
   "execution_count": 5,
   "metadata": {},
   "outputs": [],
   "source": [
    "LABELS = [\"NEGATIVE\", \"POSITIVE\"]\n",
    "def preprocess_input(X_batch):\n",
    "    X_batch = tf.strings.substr(X_batch, 0, 300)\n",
    "    X_batch = tf.strings.regex_replace(X_batch, rb\"<br\\s*/?>\", b\" \")\n",
    "    X_batch = tf.strings.regex_replace(X_batch, b\"[^a-zA-Z']\", b\" \")\n",
    "    X_batch = tf.strings.regex_replace(X_batch, \"<[^>]+>\",  \" \")\n",
    "    X_batch = tf.strings.split(X_batch)\n",
    "    return X_batch.to_tensor(default_value=b\"<pad>\")\n",
    "\n",
    "def get_prediction(review):\n",
    "    # Preprocessing\n",
    "    review_array = table.lookup(tf.constant([review.split()]))\n",
    "    \n",
    "    # Prediction score that the item is encoded as 1 (Positive)\n",
    "    threshold_confidence = 0.5\n",
    "    score = float(model.predict(review_array)[0][0])\n",
    "    \n",
    "    if score > threshold_confidence:\n",
    "        actual_predict, actual_proba = \"POSITIVE\", round(score, 5)\n",
    "        other_predict, other_proba = \"NEGATIVE\", round(1 - score, 5)\n",
    "    else:\n",
    "        actual_predict, actual_proba = \"NEGATIVE\", round(1 - score, 5)\n",
    "        other_predict, other_proba = \"POSITIVE\", round(score, 5)\n",
    "    \n",
    "    print('Review:', review, '\\nPrediction:', actual_predict, \n",
    "          '\\nPredicted probability that the review is {}: {}'.format(actual_predict, actual_proba),\n",
    "          '\\nPredicted probabiltiy that the review is {}: {}\\n'.format(other_predict, other_proba))\n",
    "    \n",
    "def encode_words(X_batch, y_batch):\n",
    "    return table.lookup(X_batch), y_batch"
   ]
  },
  {
   "cell_type": "code",
   "execution_count": 6,
   "metadata": {},
   "outputs": [],
   "source": [
    "# Load model\n",
    "model = keras.models.load_model('model.h5')"
   ]
  },
  {
   "cell_type": "code",
   "execution_count": 8,
   "metadata": {},
   "outputs": [
    {
     "name": "stdout",
     "output_type": "stream",
     "text": [
      "Review: b\"I remember seeing this at my local Blockbuster and picked it up cause I was curious. I liked movies about mythological creatures. I like movies about werewolves, vampires, zombies, etc. This is based on half-caste, a half-human half-leopard creature that preys on the people of Africa.<br /><br />The movie is horrendous! The actors are terrible! There is no script whatsoever! It's all improvised! The whole thing is filmed at night because they say that is the only time you ever see it. It's obvious bull*bleep*! They film at night to make it scary. But, they have failed to scare me. After the first person was killed, I put this back in the case and took it back to Blockbuster. One of the most boring movies I've ever seen.<br /><br />Now you are probably saying I have no right to review a movie if I haven't finished it. Well, this is one of the films that didn't deserve to be watched all the way through.<br /><br />1 star out of 10. This is really BAD!\" \n",
      "Prediction: NEGATIVE \n",
      "Predicted probability that the review is NEGATIVE: 0.99741 \n",
      "Predicted probabiltiy that the review is POSITIVE: 0.00259\n",
      "\n",
      "Review: b'This film is about a single mother who is happy go lucky to the point that she is almost irresponsible, and her sensible teenage daughter who is undergoing adolescent turmoils.<br /><br />\"Anywhere But Here\" is an engaging film from beginning to the end. Both Ann and Adele are described well right at the start, so we get to know how different their personalities are. Clashes inevitably ensue, and they are engagingly presented. I find myself so drawn to their state of minds and their circumstances. it is as if I am living their lives, feeling what they are feeling.<br /><br />Susan Sarandon gives another excellent performance in \"Anywhere But Here\". She is charismatic, happy go lucky, hedonistic, warm and loving all at once. I have always liked Susan Sarandon, and I think she is grossly underrated.<br /><br />\"Anywhere But Here\" is a captivating emotional journey.' \n",
      "Prediction: POSITIVE \n",
      "Predicted probability that the review is POSITIVE: 0.99989 \n",
      "Predicted probabiltiy that the review is NEGATIVE: 0.00011\n",
      "\n",
      "Review: b\"I vaguely remember this film. I do remember it for the one solid reason that it is the only film that I have ever walked out on!! and since then I have never seen it available to rent ANYWHERE!! I can't spoil it for anyone cos I can barely remember it!! To think, looking at the cast, it seemed a winner, with John Landis directing, but good god, they must have been paid a whole lot for this drivel!! All I can seem to recall is that the dad goes missing and the family try to search for him, by trying to put an actual photograph into the disc drive of a computer. I walked out after about half an hour of this. I must confess though, I'd love to see if I can get a copy, just to see if it really was that bad!!<br /><br />It wouldn't surprise me if this was on every actor's black list! I mean Christopher Lee was in this?? The legend of all bad guys, who'd been in Star Wars and Lord of the Rings?? As I said - black listed movie, The Stupids!\" \n",
      "Prediction: NEGATIVE \n",
      "Predicted probability that the review is NEGATIVE: 0.99866 \n",
      "Predicted probabiltiy that the review is POSITIVE: 0.00134\n",
      "\n",
      "Review: b'This short film certainly pulls no punches. The story is of a butcher who wrongfully kills an innocent man who he believes has sexually molested his retarded daughter. The film goes onto depict how the butcher serves his time, and returns to life with his daughter in care, and having to come to terms with a life with no future.<br /><br />The graphic opening scenes of a horse being slaughtered, and the full frontal birth of the butchers daughter puts you a brutal frame of mind that stays with you throughout the film.<br /><br />The snappy flow of the film is very direct and adds to its brutality. Consequently alot of ground is covered in the 40 minutes. You are taken in fully with the butchers non-life - particularly after he loses his daughter to social services and his business. His story continues in the excellent film Seul Contre Tous' \n",
      "Prediction: POSITIVE \n",
      "Predicted probability that the review is POSITIVE: 0.99958 \n",
      "Predicted probabiltiy that the review is NEGATIVE: 0.00042\n",
      "\n",
      "Review: b'It opens with your cliche overly long ship flying through space. All I could think at this point was \"Spaceballs\" and hoping there\\'d be a sticker on back that said \"We break for Nobody.\" The movie then shows some cryogenic freezers with Vin Diesel\\'s narration. I\\'ve always thought his voice sounded cool ever since I saw Fast and the Furious. From when I found out he was as criminal, I thought the movie was going to be cliche. It was. It was very cliche and fate seemed to be against them at every turn. Black out every 22 years. Lucky them, they land on that day. Aliens can only be in the darkness, hey it\\'s a solar eclipse. As much as I thought it was too easy and just a cliche, the movie pulled through and kicked major @ss. I even went out and bought a copy of Pitch Black after seeing it. I really can\\'t wait for Chronicles of Riddick.' \n",
      "Prediction: NEGATIVE \n",
      "Predicted probability that the review is NEGATIVE: 0.99142 \n",
      "Predicted probabiltiy that the review is POSITIVE: 0.00858\n",
      "\n",
      "Review: b'SPOILERS A Jewish Frodo? Yep, that\\'ll be Elijah Wood again.<br /><br />Ever since the concluding part of \"Lord of the Rings\", Elijah Wood as Frodo has found it increasingly difficult to get away from that major role. Playing a football hooligan, a psychopath and now a young Jewish American, Wood has tried any route he can to escape this typecasting. Now, with \"Everything Is Illuminated\" he might finally have achieved this. Playing a role which isn\\'t as radical as other efforts, he truly gets to the soul of his character. Still, it isn\\'t like Wood does this alone. Aided by a magnificent adaptation by first time directer Liev Schreiber and a wonderful performance by newcomer Eugene Hutz, Wood has found a magnificent production to spread his wings. \"Everything is Illuminated\" is a magnificent, moving piece of cinema.<br /><br />Jonathan Safran Foer (Wood), a young American Jew, sets out to the Ukraine to find the mysterious girl who rescued his grandfather and helped him get to America. Arriving in the country, Jonathan meets the all talking, all dancing Alex (Hutz) and his racist grandfather (Boris Leskin). Travelling across the country, the three slowly learn more and more about the history and relations that Alex and Jonathan never knew existed.<br /><br />It\\'s a strange feeling when the film progresses into it\\'s second chapter (it is actually divided into four overall). The first part, whilst occasionally a bit funny, is mostly serious and intense. So when we are given a brief history of Alex and his family in the second part, to switch from serious to hilarious is a weird step. It doesn\\'t quite work, but as the film progresses, it definitely learns it\\'s lesson as this mix of humour and sadness merges finer as time passes.<br /><br />To the ultimate credit of everyone involved, as the story does continue, so do we begin to fall for the characters more and more. Elijah Wood is magnificent, Boris Leskin is so intense and strong that it raises questions why Hollywood has never properly noticed him. Most notable of all however is newcomer Eugene Hutz. Playing an intensely troubled character, Hutz is absolutely brilliant. He shows the split between his relatives and the real world with almost perfect skill, and when his character is communicating with Wood, you genuinely connect with him on a deeper level. Without Hutz, the story is so strong that the film would still be magnificent, but with him, it hits the next level.<br /><br />As a debut work for actor turned director Liev Schreiber, the story is also a brilliant piece to start. A work of passion (Schreiber\\'s grandfather himself an immigrant to America), he manages to truly embrace the emotion of the content, and by presenting us with some truly beautiful scenery and some magnificent shots, he manages to really hit home. The final half hour in particular is so beautifully created, that it\\'s a challenge for a tear not to form in any viewers eye. It is a moving story, and with Schreiber\\'s help, it becomes even more powerful.<br /><br />Constructed with love from a passionate director, \"Everything is Illuminated\" is a beautiful piece. A road story with a difference, it is magnificently acted and wonderfully written. It\\'s a film that everyone should see, and it is the perfect way for Elijah Wood to finally lay Frodo to rest.' \n",
      "Prediction: POSITIVE \n",
      "Predicted probability that the review is POSITIVE: 0.99992 \n",
      "Predicted probabiltiy that the review is NEGATIVE: 8e-05\n",
      "\n"
     ]
    },
    {
     "name": "stdout",
     "output_type": "stream",
     "text": [
      "Review: b\"This is the first movie I've seen from Singapore and it's great. If you don't know a lot about Asia, its languages and its culture, then this film may be a bit confusing for the non-informed people. As an Asian-American who's double majoring in two Asian languages (one of them being Mandarin) and has taken some Asian American Studies classes, this film was easier for me to understand, but even without that kind of knowledge, I believe this movie is still accessible to its foreign audiences as long as you keep in mind that it's a coming-of-age type of movie. The film is definitely worth seeing just so that you get the chance to see what kind of issues Singapore's young teenage boys are struggling and having to deal with. This is an awesome coming-of-age movie, but filmed and shown in a more artistic and original way. The actors are outstanding.\" \n",
      "Prediction: POSITIVE \n",
      "Predicted probability that the review is POSITIVE: 0.99988 \n",
      "Predicted probabiltiy that the review is NEGATIVE: 0.00012\n",
      "\n",
      "Review: b'Way back in 1996, One of the airliner pilots where I used to work gave me a copy of this film. He told me that It\\'ll make me cry. I never believed him and we even made bets. After seeing the film....I cried a bucket! Even after the seeing the film, I found myself in the bathroom crying. It was actually the most touching film I have ever seen. I like the part where Dexter\\'s mom confronted Eric\\'s mother the line went something like... \"your sons\\' best friend just died today..and it\\'s not gonna be easy...if you ever lay your hands on him again...I will kill you!\" The last part where Dexter took Eric\\'s shoe was a scene that never left my mind until today. Honestly, just thinking about it makes my eyes teary. A story of what true friendship is all about. My girlfriend loved it too... She hated me for letting her see the film. I cried a bucket, she cried a river.' \n",
      "Prediction: POSITIVE \n",
      "Predicted probability that the review is POSITIVE: 0.99996 \n",
      "Predicted probabiltiy that the review is NEGATIVE: 4e-05\n",
      "\n",
      "Review: b\"Margaret Mitchell spins in her grave every time somebody watches this mess! Fine costuming and sets can't even begin to overwhelm lackluster performances by Joanne Whalley (as the title character) and the ever-bland Timothy Dalton (as Rhett). Even worse than the acting--and perhaps partially explaining it--is the script, which is astoundingly cliched and predictable. Add to that hellishly bad script a score that'll have you cringing, and you've got a disaster I wouldn't wish on any viewer. SCARLETT is just amazingly lousy, and I can't imagine how it ever got made, much less made it to video.\" \n",
      "Prediction: NEGATIVE \n",
      "Predicted probability that the review is NEGATIVE: 0.99856 \n",
      "Predicted probabiltiy that the review is POSITIVE: 0.00144\n",
      "\n",
      "Review: b\"I thought this is an unbelievable boring movie! i heard the director can't speak french and so he left his actors tell what they wanted... Well, Valeria Bruni-Tedeschi is great, as usual but I can't say the same of other actors. They have nothing to say, especially Bruno Todeschini.<br /><br />They all seem very tired, this being one of the movie plot : tired of being together, of living abroad, of their live in general; so they spend half the movie sleeping in a hotel room. After a while i felt sleepy myself...<br /><br />I gave 4, because of some very beautiful scenes, including the last one.\" \n",
      "Prediction: NEGATIVE \n",
      "Predicted probability that the review is NEGATIVE: 0.97814 \n",
      "Predicted probabiltiy that the review is POSITIVE: 0.02186\n",
      "\n"
     ]
    }
   ],
   "source": [
    "# [USER PARAMETER] Number of IMDB reviews to pass into model for prediction.\n",
    "num_review = 10\n",
    "\n",
    "# Pull and shuffle the number of reviews from the imdb dataset, preprocess it, and\n",
    "# evaluate on it.\n",
    "data = tfds.load(name=\"imdb_reviews\", split=('test'), as_supervised=True)\n",
    "review, label = next(iter(data.shuffle(num_review).batch(num_review)))\n",
    "preprocess(review, label)\n",
    "\n",
    "# Predict and output result. Print out the prediction and predicted probability for each review.\n",
    "for idx in range(num_review):\n",
    "    get_prediction(review[idx].numpy())\n"
   ]
  },
  {
   "cell_type": "code",
   "execution_count": null,
   "metadata": {},
   "outputs": [],
   "source": []
  }
 ],
 "metadata": {
  "kernelspec": {
   "display_name": "Python 3",
   "language": "python",
   "name": "python3"
  },
  "language_info": {
   "codemirror_mode": {
    "name": "ipython",
    "version": 3
   },
   "file_extension": ".py",
   "mimetype": "text/x-python",
   "name": "python",
   "nbconvert_exporter": "python",
   "pygments_lexer": "ipython3",
   "version": "3.7.9"
  }
 },
 "nbformat": 4,
 "nbformat_minor": 4
}
